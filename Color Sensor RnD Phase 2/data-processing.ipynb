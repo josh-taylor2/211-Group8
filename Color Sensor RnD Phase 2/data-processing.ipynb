{
 "cells": [
  {
   "cell_type": "code",
   "execution_count": 1,
   "metadata": {},
   "outputs": [],
   "source": [
    "import pandas as pd\n",
    "import numpy as np"
   ]
  },
  {
   "cell_type": "markdown",
   "metadata": {},
   "source": [
    "First step: write a function that will normalize am RGB dataframe"
   ]
  },
  {
   "cell_type": "code",
   "execution_count": 2,
   "metadata": {},
   "outputs": [],
   "source": [
    "def normalize(df):\n",
    "    \n",
    "    row_sums = df.sum(axis = 1)\n",
    "\n",
    "    normalized_df = df.div(row_sums, axis=0)\n",
    "\n",
    "    return normalized_df\n"
   ]
  },
  {
   "cell_type": "markdown",
   "metadata": {},
   "source": [
    "These are colors of blocks measured at a \"block's distance away\". "
   ]
  },
  {
   "cell_type": "code",
   "execution_count": 3,
   "metadata": {},
   "outputs": [],
   "source": [
    "bblue = normalize(pd.read_csv(\"bblue.csv\"))\n",
    "bgreen = normalize(pd.read_csv(\"bgreen.csv\"))\n",
    "borange = normalize(pd.read_csv(\"borange.csv\"))\n",
    "bpurple = normalize(pd.read_csv(\"bpurple.csv\"))\n",
    "bred = normalize(pd.read_csv(\"bred.csv\"))\n",
    "byellow = normalize(pd.read_csv(\"byellow.csv\"))"
   ]
  },
  {
   "cell_type": "markdown",
   "metadata": {},
   "source": [
    "These are measure \"ideally\". This means putting a block right up to the color sensor"
   ]
  },
  {
   "cell_type": "code",
   "execution_count": 4,
   "metadata": {},
   "outputs": [],
   "source": [
    "iblue = normalize(pd.read_csv(\"iblue.csv\"))\n",
    "igreen = normalize(pd.read_csv(\"igreen.csv\"))\n",
    "iorange = normalize(pd.read_csv(\"iorange.csv\"))\n",
    "ipurple = normalize(pd.read_csv(\"ipurple.csv\"))\n",
    "ired = normalize(pd.read_csv(\"ired.csv\"))\n",
    "iyellow = normalize(pd.read_csv(\"iyellow.csv\"))\n"
   ]
  },
  {
   "cell_type": "markdown",
   "metadata": {},
   "source": [
    "These are measurements of the floor at the current height of the robot's color sensor"
   ]
  },
  {
   "cell_type": "code",
   "execution_count": 5,
   "metadata": {},
   "outputs": [],
   "source": [
    "\n",
    "fyellow = normalize(pd.read_csv(\"fyellow.csv\"))\n",
    "fblue = normalize(pd.read_csv(\"fblue.csv\"))\n",
    "fgreen = normalize(pd.read_csv(\"fgreen.csv\"))\n",
    "fred = normalize(pd.read_csv(\"fred.csv\")) \n",
    "fborder = normalize(pd.read_csv(\"green-red-border.csv\")) \n"
   ]
  },
  {
   "cell_type": "markdown",
   "metadata": {},
   "source": [
    "These are measurements of the floor colors at an unrealistically (U for unrealistic) close distance"
   ]
  },
  {
   "cell_type": "code",
   "execution_count": 6,
   "metadata": {},
   "outputs": [],
   "source": [
    "ublue = normalize(pd.read_csv(\"ublue.csv\"))\n",
    "ugreen = normalize(pd.read_csv(\"ugreen.csv\")) \n",
    "ured = normalize(pd.read_csv(\"ured.csv\")) \n",
    "uyellow = normalize(pd.read_csv(\"uyellow.csv\"))"
   ]
  },
  {
   "cell_type": "code",
   "execution_count": 7,
   "metadata": {},
   "outputs": [],
   "source": [
    "def ratios(df):\n",
    "\n",
    "    col_means = df.mean()\n",
    "\n",
    "\n",
    "    print(\"The average 3-way ratio is:\", col_means[0], \",\", col_means[1], \",\", col_means[2])\n",
    "\n",
    "  \n",
    "\n",
    "    print(\"R RANGE: [\", df.iloc[:,0].min(), \",\", df.iloc[:,0].max(),\"]\")\n",
    "    print(\"G RANGE: [\", df.iloc[:,1].min(), \",\", df.iloc[:,1].max(),\"]\")\n",
    "    print(\"B RANGE: [\", df.iloc[:,2].min(), \",\", df.iloc[:,2].max(),\"]\")"
   ]
  },
  {
   "cell_type": "code",
   "execution_count": 13,
   "metadata": {},
   "outputs": [
    {
     "name": "stdout",
     "output_type": "stream",
     "text": [
      "BORDER\n",
      "The average 3-way ratio is: 0.49837864092937667 , 0.33897918591424114 , 0.16264217315638219\n",
      "R RANGE: [ 0.41025641025641024 , 0.5625 ]\n",
      "G RANGE: [ 0.22580645161290322 , 0.44 ]\n",
      "B RANGE: [ 0.0 , 0.2564102564102564 ]\n"
     ]
    },
    {
     "name": "stderr",
     "output_type": "stream",
     "text": [
      "C:\\Users\\joshu\\AppData\\Local\\Temp\\ipykernel_29012\\3648346279.py:6: FutureWarning: Series.__getitem__ treating keys as positions is deprecated. In a future version, integer keys will always be treated as labels (consistent with DataFrame behavior). To access a value by position, use `ser.iloc[pos]`\n",
      "  print(\"The average 3-way ratio is:\", col_means[0], \",\", col_means[1], \",\", col_means[2])\n"
     ]
    }
   ],
   "source": [
    "print(\"BORDER\") \n",
    "ratios(fborder)\n"
   ]
  },
  {
   "cell_type": "code",
   "execution_count": 15,
   "metadata": {},
   "outputs": [
    {
     "name": "stdout",
     "output_type": "stream",
     "text": [
      "YELLOW\n",
      "The average 3-way ratio is: 0.5046328983509177 , 0.371026966444073 , 0.12434013520500915\n",
      "R RANGE: [ 0.4603174603174603 , 0.5490196078431373 ]\n",
      "G RANGE: [ 0.3333333333333333 , 0.43859649122807015 ]\n",
      "B RANGE: [ 0.07017543859649122 , 0.1746031746031746 ]\n"
     ]
    },
    {
     "name": "stderr",
     "output_type": "stream",
     "text": [
      "C:\\Users\\joshu\\AppData\\Local\\Temp\\ipykernel_29012\\3648346279.py:6: FutureWarning: Series.__getitem__ treating keys as positions is deprecated. In a future version, integer keys will always be treated as labels (consistent with DataFrame behavior). To access a value by position, use `ser.iloc[pos]`\n",
      "  print(\"The average 3-way ratio is:\", col_means[0], \",\", col_means[1], \",\", col_means[2])\n"
     ]
    }
   ],
   "source": [
    "print(\"YELLOW\") \n",
    "#ratios(byellow)\n",
    "ratios(fyellow)\n",
    "#ratios(iyellow)\n",
    "#ratios(uyellow)"
   ]
  },
  {
   "cell_type": "code",
   "execution_count": 8,
   "metadata": {},
   "outputs": [
    {
     "name": "stdout",
     "output_type": "stream",
     "text": [
      "BLUE\n",
      "The average 3-way ratio is: 0.1438764819663766 , 0.30355933311731564 , 0.5525641849163077\n",
      "R RANGE: [ 0.05263157894736842 , 0.23076923076923078 ]\n",
      "G RANGE: [ 0.20454545454545456 , 0.39473684210526316 ]\n",
      "B RANGE: [ 0.4883720930232558 , 0.6363636363636364 ]\n",
      "The average 3-way ratio is: 0.13221891092575105 , 0.22384473320181608 , 0.6439363558724328\n",
      "R RANGE: [ 0.0 , 0.25 ]\n",
      "G RANGE: [ 0.0 , 0.4 ]\n",
      "B RANGE: [ 0.5238095238095238 , 1.0 ]\n"
     ]
    },
    {
     "name": "stderr",
     "output_type": "stream",
     "text": [
      "C:\\Users\\joshu\\AppData\\Local\\Temp\\ipykernel_29012\\3648346279.py:6: FutureWarning: Series.__getitem__ treating keys as positions is deprecated. In a future version, integer keys will always be treated as labels (consistent with DataFrame behavior). To access a value by position, use `ser.iloc[pos]`\n",
      "  print(\"The average 3-way ratio is:\", col_means[0], \",\", col_means[1], \",\", col_means[2])\n"
     ]
    }
   ],
   "source": [
    "print(\"BLUE\")\n",
    "ratios(bblue)\n",
    "ratios(fblue)\n",
    "#ratios(iblue)\n",
    "#ratios(ublue)\n"
   ]
  },
  {
   "cell_type": "code",
   "execution_count": 10,
   "metadata": {},
   "outputs": [
    {
     "name": "stdout",
     "output_type": "stream",
     "text": [
      "RED\n",
      "The average 3-way ratio is: 0.7433278428485196 , 0.1255352134890743 , 0.13113694366240622\n",
      "R RANGE: [ 0.6875 , 0.7936507936507936 ]\n",
      "G RANGE: [ 0.06153846153846154 , 0.16216216216216217 ]\n",
      "B RANGE: [ 0.09375 , 0.175 ]\n",
      "The average 3-way ratio is: 0.5593096592799781 , 0.13217761131276165 , 0.30851272940726027\n",
      "R RANGE: [ 0.4827586206896552 , 0.6521739130434783 ]\n",
      "G RANGE: [ 0.043478260869565216 , 0.23333333333333334 ]\n",
      "B RANGE: [ 0.20833333333333334 , 0.41379310344827586 ]\n"
     ]
    },
    {
     "name": "stderr",
     "output_type": "stream",
     "text": [
      "C:\\Users\\joshu\\AppData\\Local\\Temp\\ipykernel_29012\\3648346279.py:6: FutureWarning: Series.__getitem__ treating keys as positions is deprecated. In a future version, integer keys will always be treated as labels (consistent with DataFrame behavior). To access a value by position, use `ser.iloc[pos]`\n",
      "  print(\"The average 3-way ratio is:\", col_means[0], \",\", col_means[1], \",\", col_means[2])\n"
     ]
    }
   ],
   "source": [
    "print(\"RED\") \n",
    "ratios(bred)\n",
    "ratios(fred)\n",
    "#ratios(ired)\n",
    "#ratios(ured)"
   ]
  },
  {
   "cell_type": "code",
   "execution_count": null,
   "metadata": {},
   "outputs": [],
   "source": []
  },
  {
   "cell_type": "code",
   "execution_count": 11,
   "metadata": {},
   "outputs": [
    {
     "name": "stdout",
     "output_type": "stream",
     "text": [
      "GREEN\n",
      "The average 3-way ratio is: 0.12070967555815165 , 0.6389119096617308 , 0.24037841478011757\n",
      "R RANGE: [ 0.06521739130434782 , 0.1724137931034483 ]\n",
      "G RANGE: [ 0.5254237288135594 , 0.7333333333333333 ]\n",
      "B RANGE: [ 0.17777777777777778 , 0.3220338983050847 ]\n",
      "The average 3-way ratio is: 0.30435855625129565 , 0.5154032089740946 , 0.18023823477460973\n",
      "R RANGE: [ 0.15384615384615385 , 0.375 ]\n",
      "G RANGE: [ 0.40625 , 0.6842105263157895 ]\n",
      "B RANGE: [ 0.0 , 0.28125 ]\n"
     ]
    },
    {
     "name": "stderr",
     "output_type": "stream",
     "text": [
      "C:\\Users\\joshu\\AppData\\Local\\Temp\\ipykernel_29012\\3648346279.py:6: FutureWarning: Series.__getitem__ treating keys as positions is deprecated. In a future version, integer keys will always be treated as labels (consistent with DataFrame behavior). To access a value by position, use `ser.iloc[pos]`\n",
      "  print(\"The average 3-way ratio is:\", col_means[0], \",\", col_means[1], \",\", col_means[2])\n"
     ]
    }
   ],
   "source": [
    "print(\"GREEN\") \n",
    "ratios(bgreen)\n",
    "ratios(fgreen)\n",
    "#ratios(igreen)\n",
    "#ratios(ugreen)"
   ]
  },
  {
   "cell_type": "code",
   "execution_count": 12,
   "metadata": {},
   "outputs": [
    {
     "name": "stdout",
     "output_type": "stream",
     "text": [
      "PURPLE\n",
      "The average 3-way ratio is: 0.30541046476034156 , 0.24775776940808336 , 0.44683176583157513\n",
      "R RANGE: [ 0.2641509433962264 , 0.3484848484848485 ]\n",
      "G RANGE: [ 0.20689655172413793 , 0.27692307692307694 ]\n",
      "B RANGE: [ 0.41379310344827586 , 0.5 ]\n",
      "The average 3-way ratio is: 0.3393302599741533 , 0.2541100485571566 , 0.40655969146869014\n",
      "R RANGE: [ 0.3193717277486911 , 0.3553299492385787 ]\n",
      "G RANGE: [ 0.24352331606217617 , 0.26666666666666666 ]\n",
      "B RANGE: [ 0.39378238341968913 , 0.42328042328042326 ]\n",
      "ORANGE\n",
      "The average 3-way ratio is: 0.6441648532835867 , 0.19327316092530525 , 0.16256198579110806\n",
      "R RANGE: [ 0.6153846153846154 , 0.6728971962616822 ]\n",
      "G RANGE: [ 0.16822429906542055 , 0.2072072072072072 ]\n",
      "B RANGE: [ 0.1320754716981132 , 0.1896551724137931 ]\n",
      "The average 3-way ratio is: 0.686242145037141 , 0.18231508303086955 , 0.13144277193198944\n",
      "R RANGE: [ 0.675 , 0.694300518134715 ]\n",
      "G RANGE: [ 0.17692307692307693 , 0.19035532994923857 ]\n",
      "B RANGE: [ 0.12436548223350254 , 0.14285714285714285 ]\n"
     ]
    },
    {
     "name": "stderr",
     "output_type": "stream",
     "text": [
      "C:\\Users\\joshu\\AppData\\Local\\Temp\\ipykernel_29012\\3648346279.py:6: FutureWarning: Series.__getitem__ treating keys as positions is deprecated. In a future version, integer keys will always be treated as labels (consistent with DataFrame behavior). To access a value by position, use `ser.iloc[pos]`\n",
      "  print(\"The average 3-way ratio is:\", col_means[0], \",\", col_means[1], \",\", col_means[2])\n"
     ]
    }
   ],
   "source": [
    "print(\"PURPLE\") \n",
    "ratios(bpurple)\n",
    "ratios(ipurple)\n",
    "\n",
    "\n",
    "print(\"ORANGE\") \n",
    "ratios(borange)\n",
    "ratios(iorange)"
   ]
  }
 ],
 "metadata": {
  "kernelspec": {
   "display_name": "base",
   "language": "python",
   "name": "python3"
  },
  "language_info": {
   "codemirror_mode": {
    "name": "ipython",
    "version": 3
   },
   "file_extension": ".py",
   "mimetype": "text/x-python",
   "name": "python",
   "nbconvert_exporter": "python",
   "pygments_lexer": "ipython3",
   "version": "3.12.4"
  }
 },
 "nbformat": 4,
 "nbformat_minor": 2
}
